{
 "cells": [
  {
   "cell_type": "code",
   "execution_count": 1,
   "metadata": {},
   "outputs": [],
   "source": [
    "import numpy as np\n",
    "import ctypes as ct\n",
    "import sys"
   ]
  },
  {
   "cell_type": "code",
   "execution_count": 90,
   "metadata": {},
   "outputs": [],
   "source": [
    "DIM = 3  # Dimensionality\n",
    "\n",
    "class TreeNode_ctype(ct.Structure):\n",
    "    pass\n",
    "\n",
    "class Cell_ctype(ct.Structure):\n",
    "    _fields_ = [\n",
    "        (\"prob\", ct.c_float),\n",
    "        (\"v\", ct.c_float * DIM),\n",
    "        (\"u\", ct.c_float * DIM),\n",
    "        (\"w\", ct.c_float * DIM),\n",
    "        (\"ctu\", ct.c_float * DIM),\n",
    "        (\"state\", ct.c_int * DIM),\n",
    "        (\"i_nodes\", ct.POINTER(TreeNode_ctype) * DIM),\n",
    "        (\"k_nodes\", ct.POINTER(TreeNode_ctype) * DIM),\n",
    "        (\"dcu\", ct.c_float),\n",
    "        (\"cfl_dt\", ct.c_float),\n",
    "        (\"new_f\", ct.c_int),\n",
    "        (\"ik_f\", ct.c_int),\n",
    "        (\"del_f\", ct.c_int)\n",
    "    ]\n",
    "\n",
    "TreeNode_ctype.fields = [\n",
    "    (\"key\", ct.c_int),\n",
    "    (\"cell\", Cell_ctype),\n",
    "    (\"left\", ct.POINTER(TreeNode_ctype)),\n",
    "    (\"right\", ct.POINTER(TreeNode_ctype))\n",
    "]\n",
    "\n",
    "class Cell:\n",
    "    def __init__(self, PROB, V, U, W, CTU, STATE, DCU, CFL_DT, NEW_F, IK_F, DEL_F):\n",
    "        I_NODES   = (ct.POINTER(TreeNode_ctype) * DIM)()\n",
    "        K_NODES   = (ct.POINTER(TreeNode_ctype) * DIM)()\n",
    "        V         = (ct.c_float * DIM)(*V)\n",
    "        U         = (ct.c_float * DIM)(*U)\n",
    "        W         = (ct.c_float * DIM)(*W)\n",
    "        CTU       = (ct.c_float * DIM)(*CTU)\n",
    "        STATE     = (ct.c_int * DIM)(*STATE)\n",
    "        self.cell = Cell_ctype(prob = PROB, v = V, u = U, w = W, ctu = CTU, state = STATE, i_nodes = I_NODES, k_nodes = K_NODES, dcu = DCU, cfl_dt = CFL_DT, new_f = NEW_F, ik_f = IK_F, del_f = DEL_F)\n",
    "\n",
    "class TreeNode:\n",
    "    def __init__(self, KEY, CELL):\n",
    "        LEFT  = (ct.POINTER(TreeNode_ctype))()\n",
    "        RIGHT = (ct.POINTER(TreeNode_ctype))()\n",
    "        self.treenode = TreeNode_ctype(key = KEY, cell = CELL, left = LEFT, right = RIGHT)\n",
    "\n",
    "class Grid:\n",
    "    def __init__(self):\n",
    "        self.thresh = None\n",
    "        self.dt     = None\n",
    "        self.epoch  = None\n",
    "        self.dx     = None\n",
    "        self.xh     = None\n",
    "\n",
    "class Traj: \n",
    "    sigma = None\n",
    "    b     = None\n",
    "    r     = None\n",
    "    T     = None\n",
    "\n",
    "class Measurement:\n",
    "    def __init__(self):\n",
    "        self.mean = None\n",
    "        self.cov  = None"
   ]
  },
  {
   "cell_type": "code",
   "execution_count": 53,
   "metadata": {},
   "outputs": [],
   "source": [
    "class BST:\n",
    "    def __init__(self):\n",
    "        self.root = None\n",
    "        self.dead = None\n",
    "        self.a_count = 0\n",
    "        self.tot_count = 1\n",
    "        self.cfl_min_dt = sys.float_info.max\n",
    "\n",
    "\n",
    "    def insert(self, node):\n",
    "        if self.root is None:\n",
    "            self.root = node\n",
    "        else:\n",
    "            self._insert_recursive(self.root, node)\n",
    "\n",
    "    def _insert_recursive(self, root, node):\n",
    "        if node.key < root.key:\n",
    "            if root.left is None:\n",
    "                root.left = node\n",
    "            else:\n",
    "                self._insert_recursive(root.left, node)\n",
    "        elif node.key > root.key:\n",
    "            if root.right is None:\n",
    "                root.right = node\n",
    "            else:\n",
    "                self._insert_recursive(root.right, node)\n",
    "\n",
    "    def search(self, key):\n",
    "        return self._search_recursive(self.root, key)\n",
    "\n",
    "    def _search_recursive(self, root, key):\n",
    "        if root is None or root.key == key:\n",
    "            return root\n",
    "        if key < root.key:\n",
    "            return self._search_recursive(root.left, key)\n",
    "        else:\n",
    "            return self._search_recursive(root.right, key)\n",
    "    \n",
    "    def print(self):\n",
    "        return self._print_recursive(self.root)\n",
    "\n",
    "    def _print_recursive(self, root):\n",
    "        if root is None:\n",
    "            return \n",
    "        else:\n",
    "            print(root.key)\n",
    "            self._print_recursive(root.left)\n",
    "            self._print_recursive(root.right)"
   ]
  },
  {
   "cell_type": "code",
   "execution_count": 31,
   "metadata": {},
   "outputs": [],
   "source": [
    "def rosenberg_pair(state, d, m):\n",
    "    if d==1:\n",
    "        return state[0]\n",
    "    \n",
    "    new_state = np.empty(d-1)\n",
    "    for i in range(d-1):\n",
    "        new_state[i] = state[i]\n",
    "\n",
    "    new_m = np.max(new_state)\n",
    "    return rosenberg_pair(new_state, d-1, new_m) + m**d + (m - state[d-1])*((m + 1)**(d - 1) - m**(d - 1))\n",
    "\n",
    "def state_conversion(state, DIM):\n",
    "    shift_state = np.empty(DIM)\n",
    "    for i in range(DIM):\n",
    "        if(state[i] < 0):\n",
    "            shift_state[i] = -2*state[i] - 1\n",
    "        else:\n",
    "            shift_state[i] = 2*state[i]\n",
    "\n",
    "    m = np.max(shift_state)\n",
    "    return rosenberg_pair(shift_state, DIM, m)\n",
    "\n",
    "def mc(th):\n",
    "    return max(0, min((1 + th)/2, 2.0, 2*th))\n",
    "\n",
    "def get_size(root):\n",
    "    if root == None:\n",
    "        return 0\n",
    "    \n",
    "    return 1 + get_size(root.left) + get_size(root.right)"
   ]
  },
  {
   "cell_type": "code",
   "execution_count": 97,
   "metadata": {},
   "outputs": [
    {
     "name": "stdout",
     "output_type": "stream",
     "text": [
      "0.0\n",
      "1.0\n"
     ]
    }
   ],
   "source": [
    "test_cell = Cell(0, [0.0,0.0,0.0], [0.0,0.0,0.0], [0.0,0.0,0.0], [0.0,0.0,0.0], [0,0,0], 0, 0, 0, 0, 0)\n",
    "test_node = TreeNode(0, test_cell)\n",
    "print(test_node.treenode.cell.cell.prob)\n",
    "test_cell.cell.prob = 1\n",
    "print(test_node.treenode.cell.cell.prob)"
   ]
  },
  {
   "cell_type": "code",
   "execution_count": 4,
   "metadata": {},
   "outputs": [
    {
     "name": "stdout",
     "output_type": "stream",
     "text": [
      "Reading in user inputs...\n",
      "\n"
     ]
    }
   ],
   "source": [
    "#========================================== Begin User Input ===============================================#\n",
    "print( \"Reading in user inputs...\\n\" )\n",
    "\n",
    "NM        = 1          # Number of measurements \n",
    "FILE_PATH = \"./Epochs\" # Measurement file path\n",
    "\n",
    "G           = Grid()   # Grid instance\n",
    "G.thresh    = 2E-5     # Probability threshold\n",
    "OUTPUT      = True     # Write info to terminal\n",
    "RECORD      = True     # Write PDFs to .txt file\n",
    "MEASURE     = True     # Take discrete measurement updates\n",
    "OUTPUT_FREQ = 20       # Number of steps per output to terminal\n",
    "DEL_STEP    = 25       # Number of steps per deletion procedure\n",
    "NUM_DIST    = 6        # Number of distributions recorded per measurement\n",
    "#===========================================================================================================#"
   ]
  },
  {
   "cell_type": "code",
   "execution_count": 5,
   "metadata": {},
   "outputs": [
    {
     "name": "stdout",
     "output_type": "stream",
     "text": [
      "Reading in discrete measurements...\n",
      "\n"
     ]
    }
   ],
   "source": [
    "#===================================== Read in measurement/trajectory info =================================#\n",
    "print(\"Reading in discrete measurements...\\n\")\n",
    "\n",
    "measurement_file = open(FILE_PATH + \"/measurements.txt\", \"r\")\n",
    "mean = np.empty(DIM)\n",
    "cov  = np.empty((DIM,DIM))\n",
    "\n",
    "measurement_file.readline(); # Skip label line\n",
    "mean = [float(string) for string in measurement_file.readline().split(\" \")] # Mean\n",
    "measurement_file.readline(); # Skip blank space\n",
    "measurement_file.readline(); # Skip label line\n",
    "for i in range(DIM):\n",
    "    cov[i] = [float(string) for string in measurement_file.readline().split(\" \")] # Covariance\n",
    "G.epoch = mean\n",
    "G.dx = [x/2 for x in np.diag(cov)] # Grid width\n",
    "G.xh = [x/2 for x in G.dx]         # Half grid width\n",
    "\n",
    "Lor = Traj() \n",
    "measurement_file.readline(); # Skip blank space\n",
    "measurement_file.readline(); # Skip label line\n",
    "Lor.sigma = float(measurement_file.readline())\n",
    "measurement_file.readline(); # Skip label line\n",
    "Lor.b = float(measurement_file.readline())\n",
    "measurement_file.readline(); # Skip label line\n",
    "Lor.r = float(measurement_file.readline())\n",
    "measurement_file.readline(); # Skip label line\n",
    "Lor.T = float(measurement_file.readline())\n",
    "\n",
    "measure_time = Lor.T/NM                 # Time between measurements\n",
    "record_time = measure_time/(NUM_DIST-1) # Time between recording PDF\n",
    "measurement_file.close()\n",
    "#===========================================================================================================#"
   ]
  },
  {
   "cell_type": "code",
   "execution_count": 6,
   "metadata": {},
   "outputs": [
    {
     "name": "stdout",
     "output_type": "stream",
     "text": [
      "4.0\n"
     ]
    }
   ],
   "source": [
    "print(Lor.sigma)"
   ]
  },
  {
   "cell_type": "code",
   "execution_count": null,
   "metadata": {},
   "outputs": [],
   "source": []
  }
 ],
 "metadata": {
  "kernelspec": {
   "display_name": "base",
   "language": "python",
   "name": "python3"
  },
  "language_info": {
   "codemirror_mode": {
    "name": "ipython",
    "version": 3
   },
   "file_extension": ".py",
   "mimetype": "text/x-python",
   "name": "python",
   "nbconvert_exporter": "python",
   "pygments_lexer": "ipython3",
   "version": "3.9.6"
  }
 },
 "nbformat": 4,
 "nbformat_minor": 2
}
