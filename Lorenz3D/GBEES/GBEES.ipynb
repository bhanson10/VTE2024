{
 "cells": [
  {
   "cell_type": "code",
   "execution_count": 63,
   "metadata": {},
   "outputs": [],
   "source": [
    "import numpy as np\n",
    "import ctypes as ct\n",
    "import sys"
   ]
  },
  {
   "cell_type": "code",
   "execution_count": 58,
   "metadata": {},
   "outputs": [],
   "source": [
    "class Cell:\n",
    "    def __init__(self, KEY, PROB, V, U, W, CTU, STATE, DCU, CFL_DT, NEW_F, IK_F, DEL_F):\n",
    "        self.key     = KEY\n",
    "        self.prob    = PROB\n",
    "        self.v       = V\n",
    "        self.u       = U\n",
    "        self.w       = W\n",
    "        self.ctu     = CTU\n",
    "        self.state   = STATE\n",
    "        self.i_roots = None\n",
    "        self.k_roots = None\n",
    "        self.dcu     = DCU\n",
    "        self.cfl_dt  = CFL_DT\n",
    "        self.new_f   = NEW_F\n",
    "        self.ik_f    = IK_F\n",
    "        self.del_f   = DEL_F\n",
    "        self.left    = None\n",
    "        self.right   = None\n",
    "\n",
    "class Grid:\n",
    "    def __init__(self):\n",
    "        self.thresh = None\n",
    "        self.dt     = None\n",
    "        self.epoch  = None\n",
    "        self.dx     = None\n",
    "        self.xh     = None\n",
    "\n",
    "class Traj: \n",
    "    sigma = None\n",
    "    b     = None\n",
    "    r     = None\n",
    "    T     = None\n"
   ]
  },
  {
   "cell_type": "code",
   "execution_count": null,
   "metadata": {},
   "outputs": [],
   "source": [
    "class BST:\n",
    "    def __init__(self):\n",
    "        self.root = None\n",
    "        self.dead = None\n",
    "        self.a_count = 0\n",
    "        self.tot_count = 1\n",
    "        self.cfl_min_dt = sys.float_info.max\n",
    "\n",
    "\n",
    "    def insert(self, cell):\n",
    "        if self.root is None:\n",
    "            self.root = cell\n",
    "        else:\n",
    "            self._insert_recursive(self.root, cell)\n",
    "\n",
    "    def _insert_recursive(self, root, cell):\n",
    "        if cell.key < root.key:\n",
    "            if root.left is None:\n",
    "                root.left = cell\n",
    "            else:\n",
    "                self._insert_recursive(root.left, cell)\n",
    "        elif cell.key > root.key:\n",
    "            if root.right is None:\n",
    "                root.right = cell\n",
    "            else:\n",
    "                self._insert_recursive(root.right, cell)\n",
    "\n",
    "    def search(self, cell):\n",
    "        return self._search_recursive(self.root, cell)\n",
    "\n",
    "    def _search_recursive(self, root, cell):\n",
    "        if root is None or root.key == cell.key:\n",
    "            return root\n",
    "        if cell.key < root.key:\n",
    "            return self._search_recursive(root.left, cell)\n",
    "        else:\n",
    "            return self._search_recursive(root.right, cell)"
   ]
  },
  {
   "cell_type": "code",
   "execution_count": 60,
   "metadata": {},
   "outputs": [
    {
     "name": "stdout",
     "output_type": "stream",
     "text": [
      "Reading in user inputs...\n",
      "\n"
     ]
    }
   ],
   "source": [
    "#========================================== Begin User Input ===============================================#\n",
    "print( \"Reading in user inputs...\\n\" )\n",
    "\n",
    "DIM       = 3          # Dimensionality\n",
    "NM        = 1          # Number of measurements \n",
    "FILE_PATH = \"./Epochs\" # Measurement file path\n",
    "\n",
    "G           = Grid()   # Grid instance\n",
    "G.thresh    = 2E-5     # Probability threshold\n",
    "OUTPUT      = True     # Write info to terminal\n",
    "RECORD      = True     # Write PDFs to .txt file\n",
    "MEASURE     = True     # Take discrete measurement updates\n",
    "OUTPUT_FREQ = 20       # Number of steps per output to terminal\n",
    "DEL_STEP    = 25       # Number of steps per deletion procedure\n",
    "NUM_DIST    = 6        # Number of distributions recorded per measurement\n",
    "#===========================================================================================================#"
   ]
  },
  {
   "cell_type": "code",
   "execution_count": 61,
   "metadata": {},
   "outputs": [
    {
     "name": "stdout",
     "output_type": "stream",
     "text": [
      "Reading in discrete measurements...\n",
      "\n"
     ]
    }
   ],
   "source": [
    "#===================================== Read in measurement/trajectory info =================================#\n",
    "print(\"Reading in discrete measurements...\\n\")\n",
    "\n",
    "measurement_file = open(FILE_PATH + \"/measurements.txt\", \"r\")\n",
    "mean = np.empty(DIM)\n",
    "cov  = np.empty((DIM,DIM))\n",
    "\n",
    "measurement_file.readline(); # Skip label line\n",
    "mean = [float(string) for string in measurement_file.readline().split(\" \")] # Mean\n",
    "measurement_file.readline(); # Skip blank space\n",
    "measurement_file.readline(); # Skip label line\n",
    "for i in range(DIM):\n",
    "    cov[i] = [float(string) for string in measurement_file.readline().split(\" \")] # Covariance\n",
    "G.epoch = mean\n",
    "G.dx = [x/2 for x in np.diag(cov)] # Grid width\n",
    "G.xh = [x/2 for x in G.dx]         # Half grid width\n",
    "\n",
    "Lor = Traj() \n",
    "measurement_file.readline(); # Skip blank space\n",
    "measurement_file.readline(); # Skip label line\n",
    "Lor.sigma = float(measurement_file.readline())\n",
    "measurement_file.readline(); # Skip label line\n",
    "Lor.b = float(measurement_file.readline())\n",
    "measurement_file.readline(); # Skip label line\n",
    "Lor.r = float(measurement_file.readline())\n",
    "measurement_file.readline(); # Skip label line\n",
    "Lor.T = float(measurement_file.readline())\n",
    "\n",
    "measure_time = Lor.T/NM                 # Time between measurements\n",
    "record_time = measure_time/(NUM_DIST-1) # Time between recording PDF\n",
    "measurement_file.close()\n",
    "#===========================================================================================================#"
   ]
  },
  {
   "cell_type": "code",
   "execution_count": 62,
   "metadata": {},
   "outputs": [
    {
     "name": "stdout",
     "output_type": "stream",
     "text": [
      "4.0\n"
     ]
    }
   ],
   "source": [
    "print(Lor.sigma)"
   ]
  }
 ],
 "metadata": {
  "kernelspec": {
   "display_name": "base",
   "language": "python",
   "name": "python3"
  },
  "language_info": {
   "codemirror_mode": {
    "name": "ipython",
    "version": 3
   },
   "file_extension": ".py",
   "mimetype": "text/x-python",
   "name": "python",
   "nbconvert_exporter": "python",
   "pygments_lexer": "ipython3",
   "version": "3.11.7"
  }
 },
 "nbformat": 4,
 "nbformat_minor": 2
}
