{
 "cells": [
  {
   "cell_type": "code",
   "execution_count": 1,
   "metadata": {},
   "outputs": [],
   "source": [
    "import numpy as np\n",
    "import ctypes as ct\n",
    "import sys"
   ]
  },
  {
   "cell_type": "code",
   "execution_count": 2,
   "metadata": {},
   "outputs": [
    {
     "name": "stdout",
     "output_type": "stream",
     "text": [
      "10 is inserted successfully\n",
      "18 is inserted successfully\n",
      "4 is inserted successfully\n",
      "11 is inserted successfully\n",
      "16 is inserted successfully\n",
      "20 is inserted successfully\n",
      "13 is inserted successfully\n"
     ]
    }
   ],
   "source": [
    "class TreeNode:\n",
    "    def __init__(self, KEY, PROB=None, V=None, U=None, W=None, CTU=None, DCU=None, CFL_DT=None, NEW_F=None, IK_F=None, DEL_F=None):\n",
    "        self.key = KEY\n",
    "        self.prob = PROB\n",
    "        self.v = V\n",
    "        self.u = U\n",
    "        self.w = W\n",
    "        self.ctu = CTU\n",
    "        self.dcu = DCU\n",
    "        self.cfl_dt = CFL_DT\n",
    "        self.new_f = NEW_F\n",
    "        self.ik_f = IK_F\n",
    "        self.del_f = DEL_F\n",
    "\n",
    "class BST:\n",
    "    def __init__(self,NODE=None):\n",
    "\n",
    "        self.node = NODE\n",
    "\n",
    "        if self.node:\n",
    "            self.left = BST()\n",
    "            self.right = BST()\n",
    "        else:\n",
    "            self.left = None\n",
    "            self.right = None\n",
    "   \n",
    "    def isempty(self):\n",
    "        return (self.node == None)\n",
    "\n",
    "    def insert_recursive(self,new_node):\n",
    "        if self.isempty():\n",
    "            self.node = new_node\n",
    "            self.left = BST()\n",
    "            self.right = BST()\n",
    "           \n",
    "        elif new_node.key < self.node.key:\n",
    "            self.left.insert_recursive(new_node)\n",
    "            return\n",
    "         \n",
    "        elif new_node.key > self.node.key:\n",
    "            self.right.insert_recursive(new_node)\n",
    "        else:\n",
    "            return\n",
    "        \n",
    "    def print_tree_recursive(self):\n",
    "        if node:\n",
    "            print(indent, end=\"\")\n",
    "            if indent == \"\":\n",
    "                print(\"ROOT----\", end=\"\")\n",
    "                indent += \"        \"\n",
    "            else:\n",
    "                if last:\n",
    "                    print(\"R----\", end=\"\")\n",
    "                    indent += \"     \"\n",
    "                else:\n",
    "                    print(\"L----\", end=\"\")\n",
    "                    indent += \"|    \"\n",
    "            print(node.contents.key)\n",
    "            self._print_tree_recursive(node.contents.left, indent, False)\n",
    "            self._print_tree_recursive(node.contents.right, indent, True)\n",
    "      "
   ]
  },
  {
   "cell_type": "code",
   "execution_count": null,
   "metadata": {},
   "outputs": [],
   "source": []
  }
 ],
 "metadata": {
  "kernelspec": {
   "display_name": "Python 3",
   "language": "python",
   "name": "python3"
  },
  "language_info": {
   "codemirror_mode": {
    "name": "ipython",
    "version": 3
   },
   "file_extension": ".py",
   "mimetype": "text/x-python",
   "name": "python",
   "nbconvert_exporter": "python",
   "pygments_lexer": "ipython3",
   "version": "3.9.6"
  }
 },
 "nbformat": 4,
 "nbformat_minor": 2
}
